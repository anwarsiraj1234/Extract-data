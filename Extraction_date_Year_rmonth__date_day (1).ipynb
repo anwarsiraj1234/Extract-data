{
 "cells": [
  {
   "cell_type": "code",
   "execution_count": 13,
   "id": "d910d42a-6d5b-437f-b5a8-b7b20bfcb569",
   "metadata": {},
   "outputs": [
    {
     "name": "stdout",
     "output_type": "stream",
     "text": [
      "<class 'list'>\n",
      "<class 'list'>\n",
      "DataFrame:\n",
      "         InsertedDate\n",
      "Spark     2018-08-14\n",
      "PySpark   2018-08-14\n",
      "Hadoop    2020-11-14\n",
      "Python    2020-05-17\n",
      "Pandas    2021-09-15\n",
      "Hadoop    2021-12-14\n",
      "<class 'pandas.core.frame.DataFrame'>\n"
     ]
    }
   ],
   "source": [
    "import pandas as pd\n",
    "import numpy as np\n",
    "import datetime\n",
    "import matplotlib as plt\n",
    "Dates = [\"2018-08-14\",\"2018-08-14\",\"2020-11-14\",\"2020-05-17\",\"2021-09-15\",\"2021-12-14\"]\n",
    "Courses =[\"Spark\",\"PySpark\",\"Hadoop\",\"Python\",\"Pandas\",\"Hadoop\"]\n",
    "print(type(Dates))\n",
    "print(type(Courses))\n",
    "\n",
    "df = pd.DataFrame({'InsertedDate': pd.to_datetime(Dates)},index=Courses)\n",
    "print(\"DataFrame:\\n\", df)\n",
    "print(type(df))"
   ]
  },
  {
   "cell_type": "code",
   "execution_count": 14,
   "id": "8aaf3894-fc3e-44d3-b1bd-5944abcbad40",
   "metadata": {},
   "outputs": [
    {
     "data": {
      "text/html": [
       "<div>\n",
       "<style scoped>\n",
       "    .dataframe tbody tr th:only-of-type {\n",
       "        vertical-align: middle;\n",
       "    }\n",
       "\n",
       "    .dataframe tbody tr th {\n",
       "        vertical-align: top;\n",
       "    }\n",
       "\n",
       "    .dataframe thead th {\n",
       "        text-align: right;\n",
       "    }\n",
       "</style>\n",
       "<table border=\"1\" class=\"dataframe\">\n",
       "  <thead>\n",
       "    <tr style=\"text-align: right;\">\n",
       "      <th></th>\n",
       "      <th>InsertedDate</th>\n",
       "      <th>Year</th>\n",
       "      <th>Month</th>\n",
       "      <th>Date</th>\n",
       "      <th>Day</th>\n",
       "      <th>Amount</th>\n",
       "    </tr>\n",
       "  </thead>\n",
       "  <tbody>\n",
       "    <tr>\n",
       "      <th>Spark</th>\n",
       "      <td>2018-08-14</td>\n",
       "      <td>2018</td>\n",
       "      <td>08</td>\n",
       "      <td>14</td>\n",
       "      <td>Tuesday</td>\n",
       "      <td>1232</td>\n",
       "    </tr>\n",
       "    <tr>\n",
       "      <th>PySpark</th>\n",
       "      <td>2018-08-14</td>\n",
       "      <td>2018</td>\n",
       "      <td>08</td>\n",
       "      <td>14</td>\n",
       "      <td>Tuesday</td>\n",
       "      <td>2112</td>\n",
       "    </tr>\n",
       "    <tr>\n",
       "      <th>Hadoop</th>\n",
       "      <td>2020-11-14</td>\n",
       "      <td>2020</td>\n",
       "      <td>11</td>\n",
       "      <td>14</td>\n",
       "      <td>Saturday</td>\n",
       "      <td>322</td>\n",
       "    </tr>\n",
       "    <tr>\n",
       "      <th>Python</th>\n",
       "      <td>2020-05-17</td>\n",
       "      <td>2020</td>\n",
       "      <td>05</td>\n",
       "      <td>17</td>\n",
       "      <td>Sunday</td>\n",
       "      <td>1221</td>\n",
       "    </tr>\n",
       "    <tr>\n",
       "      <th>Pandas</th>\n",
       "      <td>2021-09-15</td>\n",
       "      <td>2021</td>\n",
       "      <td>09</td>\n",
       "      <td>15</td>\n",
       "      <td>Wednesday</td>\n",
       "      <td>2123</td>\n",
       "    </tr>\n",
       "    <tr>\n",
       "      <th>Hadoop</th>\n",
       "      <td>2021-12-14</td>\n",
       "      <td>2021</td>\n",
       "      <td>12</td>\n",
       "      <td>14</td>\n",
       "      <td>Tuesday</td>\n",
       "      <td>1320</td>\n",
       "    </tr>\n",
       "  </tbody>\n",
       "</table>\n",
       "</div>"
      ],
      "text/plain": [
       "        InsertedDate  Year Month Date        Day  Amount\n",
       "Spark     2018-08-14  2018    08   14    Tuesday    1232\n",
       "PySpark   2018-08-14  2018    08   14    Tuesday    2112\n",
       "Hadoop    2020-11-14  2020    11   14   Saturday     322\n",
       "Python    2020-05-17  2020    05   17     Sunday    1221\n",
       "Pandas    2021-09-15  2021    09   15  Wednesday    2123\n",
       "Hadoop    2021-12-14  2021    12   14    Tuesday    1320"
      ]
     },
     "execution_count": 14,
     "metadata": {},
     "output_type": "execute_result"
    }
   ],
   "source": [
    "df['Year'] = df['InsertedDate'].dt.strftime('%Y')  # string , =str\n",
    "df['Month'] = df['InsertedDate'].dt.strftime('%m')\n",
    "df['Date'] = df['InsertedDate'].dt.strftime('%d')\n",
    "df['Day'] = df['InsertedDate'].dt.strftime('%A')  # A fro days\n",
    "df[\"Amount\"] = [1232,2112,322,1221,2123,1320]\n",
    "\n",
    "df\n",
    "\n",
    "#print(\"Get month and year from datetime column:\\n\", df)"
   ]
  },
  {
   "cell_type": "code",
   "execution_count": 15,
   "id": "556da8e4-056d-4c4a-b226-9214f2f6ba33",
   "metadata": {},
   "outputs": [
    {
     "data": {
      "text/html": [
       "<div>\n",
       "<style scoped>\n",
       "    .dataframe tbody tr th:only-of-type {\n",
       "        vertical-align: middle;\n",
       "    }\n",
       "\n",
       "    .dataframe tbody tr th {\n",
       "        vertical-align: top;\n",
       "    }\n",
       "\n",
       "    .dataframe thead th {\n",
       "        text-align: right;\n",
       "    }\n",
       "</style>\n",
       "<table border=\"1\" class=\"dataframe\">\n",
       "  <thead>\n",
       "    <tr style=\"text-align: right;\">\n",
       "      <th></th>\n",
       "      <th>InsertedDate</th>\n",
       "      <th>Month</th>\n",
       "      <th>Date</th>\n",
       "      <th>Day</th>\n",
       "      <th>Amount</th>\n",
       "    </tr>\n",
       "    <tr>\n",
       "      <th>Year</th>\n",
       "      <th></th>\n",
       "      <th></th>\n",
       "      <th></th>\n",
       "      <th></th>\n",
       "      <th></th>\n",
       "    </tr>\n",
       "  </thead>\n",
       "  <tbody>\n",
       "    <tr>\n",
       "      <th>2018</th>\n",
       "      <td>2018-08-14</td>\n",
       "      <td>08</td>\n",
       "      <td>14</td>\n",
       "      <td>Tuesday</td>\n",
       "      <td>1232</td>\n",
       "    </tr>\n",
       "    <tr>\n",
       "      <th>2018</th>\n",
       "      <td>2018-08-14</td>\n",
       "      <td>08</td>\n",
       "      <td>14</td>\n",
       "      <td>Tuesday</td>\n",
       "      <td>2112</td>\n",
       "    </tr>\n",
       "    <tr>\n",
       "      <th>2020</th>\n",
       "      <td>2020-11-14</td>\n",
       "      <td>11</td>\n",
       "      <td>14</td>\n",
       "      <td>Saturday</td>\n",
       "      <td>322</td>\n",
       "    </tr>\n",
       "    <tr>\n",
       "      <th>2020</th>\n",
       "      <td>2020-05-17</td>\n",
       "      <td>05</td>\n",
       "      <td>17</td>\n",
       "      <td>Sunday</td>\n",
       "      <td>1221</td>\n",
       "    </tr>\n",
       "    <tr>\n",
       "      <th>2021</th>\n",
       "      <td>2021-09-15</td>\n",
       "      <td>09</td>\n",
       "      <td>15</td>\n",
       "      <td>Wednesday</td>\n",
       "      <td>2123</td>\n",
       "    </tr>\n",
       "    <tr>\n",
       "      <th>2021</th>\n",
       "      <td>2021-12-14</td>\n",
       "      <td>12</td>\n",
       "      <td>14</td>\n",
       "      <td>Tuesday</td>\n",
       "      <td>1320</td>\n",
       "    </tr>\n",
       "  </tbody>\n",
       "</table>\n",
       "</div>"
      ],
      "text/plain": [
       "     InsertedDate Month Date        Day  Amount\n",
       "Year                                           \n",
       "2018   2018-08-14    08   14    Tuesday    1232\n",
       "2018   2018-08-14    08   14    Tuesday    2112\n",
       "2020   2020-11-14    11   14   Saturday     322\n",
       "2020   2020-05-17    05   17     Sunday    1221\n",
       "2021   2021-09-15    09   15  Wednesday    2123\n",
       "2021   2021-12-14    12   14    Tuesday    1320"
      ]
     },
     "execution_count": 15,
     "metadata": {},
     "output_type": "execute_result"
    }
   ],
   "source": [
    "df.set_index(['Year'])  \n"
   ]
  },
  {
   "cell_type": "code",
   "execution_count": 26,
   "id": "40f76681-340d-4e97-80e3-d0fc7cd78530",
   "metadata": {},
   "outputs": [
    {
     "data": {
      "image/png": "[encoded data removed]",
      "text/plain": [
       "<Figure size 640x480 with 1 Axes>"
      ]
     },
     "metadata": {},
     "output_type": "display_data"
    }
   ],
   "source": [
    "x=df.groupby(['Year','Month',\"Date\"])['Amount'].sum().plot() #aggregiate function sum, mean,median,mode,min,max,std,count,\n",
    "#print(tuple(x))\n",
    "# In pandas, the groupby function is used to split a DataFrame into groups based on some criteria,\n",
    "#apply a function to each group independently, and then combine the results back into a DataFrame. .\n",
    "#This is a powerful tool for data analysis and aggregation."
   ]
  },
  {
   "cell_type": "code",
   "execution_count": 17,
   "id": "9ab858f3-000f-40e4-8525-81e0f41f20d9",
   "metadata": {},
   "outputs": [
    {
     "data": {
      "text/plain": [
       "<bound method NDFrame.head of         InsertedDate  Year Month Date        Day  Amount\n",
       "Spark     2018-08-14  2018    08   14    Tuesday    1232\n",
       "PySpark   2018-08-14  2018    08   14    Tuesday    2112\n",
       "Hadoop    2020-11-14  2020    11   14   Saturday     322\n",
       "Python    2020-05-17  2020    05   17     Sunday    1221\n",
       "Pandas    2021-09-15  2021    09   15  Wednesday    2123\n",
       "Hadoop    2021-12-14  2021    12   14    Tuesday    1320>"
      ]
     },
     "execution_count": 17,
     "metadata": {},
     "output_type": "execute_result"
    }
   ],
   "source": [
    "df.head"
   ]
  },
  {
   "cell_type": "code",
   "execution_count": 18,
   "id": "c84e1c11",
   "metadata": {},
   "outputs": [
    {
     "ename": "SyntaxError",
     "evalue": "invalid syntax (870340354.py, line 1)",
     "output_type": "error",
     "traceback": [
      "\u001b[1;36m  Cell \u001b[1;32mIn[18], line 1\u001b[1;36m\u001b[0m\n\u001b[1;33m    data structure\u001b[0m\n\u001b[1;37m         ^\u001b[0m\n\u001b[1;31mSyntaxError\u001b[0m\u001b[1;31m:\u001b[0m invalid syntax\n"
     ]
    }
   ],
   "source": [
    "data structure \n",
    "# list\n",
    "# dictionary \n",
    "# String\n",
    "# Tuple\n",
    "# Set\n",
    "\n",
    "\n",
    "lst = [1,-2,\"anwar\",100]\n",
    "print(lst)"
   ]
  },
  {
   "cell_type": "code",
   "execution_count": 19,
   "id": "0b0ba503",
   "metadata": {},
   "outputs": [
    {
     "name": "stdout",
     "output_type": "stream",
     "text": [
      "[1, -2, 'anwar', 100]\n",
      "<class 'list'>\n",
      "[-1, -2, 'anwar', 100]\n",
      "[-1, -2, 'anwar', 100]\n",
      "[-1, -2, 'anwar']\n"
     ]
    }
   ],
   "source": [
    "lst = [1,-2,\"anwar\",100]\n",
    "print(lst)\n",
    "print(type(lst)) \n",
    "# indexing positive last element will be eliminate \n",
    "# indixing negative -1 element will be eliminate \n",
    "lst[0]=-1\n",
    "print(lst)\n",
    "print(lst[0:5])\n",
    "print(lst[-4:-1])"
   ]
  },
  {
   "cell_type": "code",
   "execution_count": 20,
   "id": "64757dbe",
   "metadata": {},
   "outputs": [
    {
     "name": "stdout",
     "output_type": "stream",
     "text": [
      "I love Pakistan\n",
      "<class 'str'>\n",
      "I love Pakistan\n",
      "I love Pakistan\n"
     ]
    }
   ],
   "source": [
    "string = \"I love Pakistan\"\n",
    "print(string)\n",
    "print(type(string))\n",
    "print(string[-15:])\n",
    "print(string[0:])"
   ]
  },
  {
   "cell_type": "code",
   "execution_count": null,
   "id": "d48c1dda",
   "metadata": {},
   "outputs": [],
   "source": []
  },
  {
   "cell_type": "code",
   "execution_count": null,
   "id": "cef3868a",
   "metadata": {},
   "outputs": [],
   "source": []
  }
 ],
 "metadata": {
  "kernelspec": {
   "display_name": "Python 3 (ipykernel)",
   "language": "python",
   "name": "python3"
  },
  "language_info": {
   "codemirror_mode": {
    "name": "ipython",
    "version": 3
   },
   "file_extension": ".py",
   "mimetype": "text/x-python",
   "name": "python",
   "nbconvert_exporter": "python",
   "pygments_lexer": "ipython3",
   "version": "3.11.4"
  }
 },
 "nbformat": 4,
 "nbformat_minor": 5
}
